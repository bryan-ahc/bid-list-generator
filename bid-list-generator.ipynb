{
 "cells": [
  {
   "cell_type": "code",
   "execution_count": null,
   "metadata": {},
   "outputs": [],
   "source": [
    "import pandas as pd"
   ]
  },
  {
   "cell_type": "code",
   "execution_count": null,
   "metadata": {},
   "outputs": [],
   "source": [
    "df=pd.read_csv(\"input.csv\")"
   ]
  },
  {
   "cell_type": "code",
   "execution_count": null,
   "metadata": {},
   "outputs": [],
   "source": [
    "#define extract name country function\n",
    "\n",
    "def extract_country(io):\n",
    "    arr=io.split(' ')\n",
    "    return arr[1]"
   ]
  },
  {
   "cell_type": "code",
   "execution_count": null,
   "metadata": {},
   "outputs": [],
   "source": [
    "#define create supply vendor lookup table from lookup file\n",
    "\n",
    "ldf=pd.read_csv(\"supply-vendor-lookup.csv\")\n",
    "ldf=ldf.set_index(\"Name\",drop=True)"
   ]
  },
  {
   "cell_type": "code",
   "execution_count": null,
   "metadata": {},
   "outputs": [],
   "source": [
    "#create dataframes for each country\n",
    "\n",
    "df['Country']=df.apply(lambda row:extract_country(str(row['Campaign'])),axis=1)\n",
    "dftw=df[df['Country']=='Taiwan']\n",
    "dfmy=df[df['Country']=='Malaysia']\n",
    "dfsg=df[df['Country']=='Singapore']"
   ]
  },
  {
   "cell_type": "code",
   "execution_count": null,
   "metadata": {},
   "outputs": [],
   "source": [
    "#define calculate CPA function\n",
    "\n",
    "def getCPA(df):\n",
    "    total_cost=df['Partner Cost (USD)'].sum()\n",
    "    total_conv=df['01 - Total Click + View Conversions'].sum()\n",
    "    return total_cost/total_conv"
   ]
  },
  {
   "cell_type": "code",
   "execution_count": null,
   "metadata": {},
   "outputs": [],
   "source": [
    "#define apply spend threshold to each country df\n",
    "\n",
    "def apply_spend_threshold(df,agg_cpa):\n",
    "    df=df[df['Partner Cost (USD)']>agg_cpa]\n",
    "    return df"
   ]
  },
  {
   "cell_type": "code",
   "execution_count": null,
   "metadata": {},
   "outputs": [],
   "source": [
    "#def clean data function\n",
    "\n",
    "def clean_data(df):\n",
    "    df=df[df['Partner Cost (USD)']!=0]\n",
    "    df=df[df['Browser']!='']\n",
    "    df=df[df['Device Type']!='']\n",
    "    df=df[df['Operating System']!='']\n",
    "    df=df[df['Supply Vendor']!='']\n",
    "    df = df.dropna()\n",
    "    return df"
   ]
  },
  {
   "cell_type": "code",
   "execution_count": null,
   "metadata": {},
   "outputs": [],
   "source": [
    "def add_cpa_column(df):\n",
    "    df['CPA']=df.apply(lambda row: row['Partner Cost (USD)']/row['01 - Total Click + View Conversions'] if row['01 - Total Click + View Conversions']!=0 else 0,axis=1)\n",
    "    return df"
   ]
  },
  {
   "cell_type": "code",
   "execution_count": null,
   "metadata": {},
   "outputs": [],
   "source": [
    "def add_bid_factor(df,global_cpa):\n",
    "    df['BidAdjustment']=df.apply(lambda row: row['CPA']/global_cpa,axis=1)\n",
    "    return df"
   ]
  },
  {
   "cell_type": "code",
   "execution_count": null,
   "metadata": {},
   "outputs": [],
   "source": [
    "def drop_columns(df):\n",
    "    df=df.drop(['Campaign','Partner Cost (USD)','01 - Total Click + View Conversions','Country','CPA'],axis=1)\n",
    "    return df"
   ]
  },
  {
   "cell_type": "code",
   "execution_count": null,
   "metadata": {},
   "outputs": [],
   "source": [
    "def rename_columns(df):\n",
    "    df=df.rename(columns={\"Device Type\": \"DeviceType\",\"Operating System\":\"Os\",\"Supply Vendor\":\"SupplyVendorId\",\"User Hour Of Week\":\"HourOfWeek\"})\n",
    "    return df"
   ]
  },
  {
   "cell_type": "code",
   "execution_count": null,
   "metadata": {},
   "outputs": [],
   "source": [
    "def add_supply_vendor_id_column(df,lookup):\n",
    "    df[\"Supply Vendor\"]=df.apply(lambda row:str(str(str(row[\"Supply Vendor\"]).lower()).replace(\" \",\"\")),axis=1)\n",
    "    df['Supply Vendor']=df.apply(lambda row: lookup.loc[str(row['Supply Vendor']),\"ID\"],axis=1)\n",
    "    return df"
   ]
  },
  {
   "cell_type": "code",
   "execution_count": null,
   "metadata": {},
   "outputs": [],
   "source": [
    "def create_bid_list(df,name,lookup):\n",
    "    agg_cpa=getCPA(df)\n",
    "    df=clean_data(df)\n",
    "    df=apply_spend_threshold(df,agg_cpa)\n",
    "    df=add_cpa_column(df)\n",
    "    df=add_bid_factor(df,agg_cpa)\n",
    "    df=add_supply_vendor_id_column(df,lookup)\n",
    "    df=drop_columns(df)\n",
    "    df=rename_columns(df)\n",
    "    df.to_csv(name+'.csv',index=False)\n",
    "    return df"
   ]
  },
  {
   "cell_type": "code",
   "execution_count": null,
   "metadata": {},
   "outputs": [],
   "source": [
    "create_bid_list(dftw,'tw-bid-list',ldf)\n",
    "create_bid_list(dfmy,'my-bid-list',ldf)\n",
    "create_bid_list(dfsg,'sg-bid-list',ldf)"
   ]
  }
 ],
 "metadata": {
  "kernelspec": {
   "display_name": "Python 3",
   "language": "python",
   "name": "python3"
  },
  "language_info": {
   "codemirror_mode": {
    "name": "ipython",
    "version": 3
   },
   "file_extension": ".py",
   "mimetype": "text/x-python",
   "name": "python",
   "nbconvert_exporter": "python",
   "pygments_lexer": "ipython3",
   "version": "3.7.3"
  }
 },
 "nbformat": 4,
 "nbformat_minor": 2
}
